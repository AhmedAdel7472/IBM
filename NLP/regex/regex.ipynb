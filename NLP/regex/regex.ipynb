{
 "cells": [
  {
   "cell_type": "markdown",
   "metadata": {},
   "source": [
    "Our Task: Analyze Spam Emails (https://www.dataquest.io/blog/regular-expressions-data-scientists/)\n",
    "In this tutorial, we'll use the Fraudulent Email Corpus from Kaggle. It contains thousands of phishing emails sent between 1998 and 2007. They're pretty entertaining to read.\n",
    "\n",
    "You can find the full corpus here (https://www.kaggle.com/datasets/rtatman/fraudulent-email-corpus). But we'll start by learning basic regex commands using a few emails. If you'd like, you can use our test file as well, or you can try this with the full corpus."
   ]
  },
  {
   "cell_type": "markdown",
   "metadata": {},
   "source": [
    "# Introducing Python's Regex Module\n",
    "First, we'll prepare the data set by opening the test file, setting it to read-only, and reading it. We'll also assign it to a variable, fh (for \"file handle\")."
   ]
  },
  {
   "cell_type": "code",
   "execution_count": 1,
   "metadata": {},
   "outputs": [],
   "source": [
    "fh = open(r\"test_emails.txt\", \"r\").read()"
   ]
  },
  {
   "cell_type": "markdown",
   "metadata": {},
   "source": [
    "Notice that we precede the directory path with an r. This technique converts a string into a raw string, which helps to avoid conflicts caused by how some machines read characters, such as backslashes in directory paths on Windows.\n",
    "\n",
    "Now, suppose we want to find out who the emails are from. We could try raw Python on its own:"
   ]
  },
  {
   "cell_type": "markdown",
   "metadata": {},
   "source": [
    "for line in fh.split(\"n\"):\n",
    "    if \"From:\" in line:\n",
    "        print(line)"
   ]
  },
  {
   "cell_type": "markdown",
   "metadata": {},
   "source": [
    "But that's not giving us exactly what we want. If you take a look at our test file, we could figure out why and fix it, but instead, let's use Python's re module and do it with regular expressions!\n",
    "\n",
    "We'll start by importing Python's re module. Then, we'll use a function called re.findall() that returns a list of all instances of a pattern we define in the string we're looking at.\n",
    "\n",
    "Here's how it looks:"
   ]
  },
  {
   "cell_type": "code",
   "execution_count": 2,
   "metadata": {},
   "outputs": [
    {
     "name": "stdout",
     "output_type": "stream",
     "text": [
      "From: \"Mr. Ben Suleman\" <bensul2004nng@spinfinder.com>\n",
      "From: \"PRINCE OBONG ELEME\" <obong_715@epatra.com>\n"
     ]
    }
   ],
   "source": [
    "import re\n",
    "\n",
    "for line in re.findall(\"From:.*\", fh):\n",
    "    print(line)"
   ]
  },
  {
   "cell_type": "markdown",
   "metadata": {},
   "source": [
    "This is essentially the same length as our raw Python, but that's because it's a very simple example. The more you're trying to do, the more effort Python regex is likely to save you.\n",
    "\n",
    "Before we move on, let's take a closer look at re.findall(). This function takes two arguments in the form of re.findall(pattern, string). Here, pattern represents the substring we want to find, and string represents the main string we want to find it in. The main string can consist of multiple lines. In this case, we're having it search through all of fh, the file with our selected emails.\n",
    "\n",
    "The .* is a shorthand for a string pattern. Regular expressions work by using these shorthand patterns to find specific patterns in text, so let's take a look at some other common examples:"
   ]
  },
  {
   "cell_type": "markdown",
   "metadata": {},
   "source": [
    "# Common Python Regex Patterns\n",
    "The pattern we used with re.findall() above contains a fully spelled-out out string, \"From:\". This is useful when we know precisely what we're looking for, right down to the actual letters and whether or not they're upper or lower case. If we don't know the exact format of the strings we want, we'd be lost. Fortunately, regex has basic patterns that account for this scenario. Let's look at the ones we use in this tutorial:\n",
    "\n",
    "w matches alphanumeric characters, which means a-z, A-Z, and 0-9. It also matches the underscore, _, and the dash, -.\n",
    "d matches digits, which means 0-9.\n",
    "s matches whitespace characters, which include the tab, new line, carriage return, and space characters.\n",
    "S matches non-whitespace characters.\n",
    ". matches any character except the new line character n.\n",
    "With these regex patterns in hand, you'll quickly understand our code above as we go on to explain it."
   ]
  },
  {
   "cell_type": "markdown",
   "metadata": {},
   "source": [
    "# Working with Regex Patterns\n",
    "We can now explain the use of .* in the line re.findall(\"From:.*\", text) above. Let's look at . first:"
   ]
  },
  {
   "cell_type": "code",
   "execution_count": 3,
   "metadata": {},
   "outputs": [
    {
     "name": "stdout",
     "output_type": "stream",
     "text": [
      "From: \n",
      "From: \n"
     ]
    }
   ],
   "source": [
    "for line in re.findall(\"From:.\", fh):\n",
    "    print(line)"
   ]
  },
  {
   "cell_type": "markdown",
   "metadata": {},
   "source": [
    "By adding a . next to From:, we look for one additional character next to it. Because . looks for any character except n, it captures the space character, which we cannot see. We can try more dots to verify this."
   ]
  },
  {
   "cell_type": "code",
   "execution_count": 4,
   "metadata": {},
   "outputs": [
    {
     "name": "stdout",
     "output_type": "stream",
     "text": [
      "From: \"Mr. Ben S\n",
      "From: \"PRINCE OB\n"
     ]
    }
   ],
   "source": [
    "for line in re.findall(\"From:...........\", fh):\n",
    "    print(line)"
   ]
  },
  {
   "cell_type": "markdown",
   "metadata": {},
   "source": [
    "It looks like adding dots does acquire the rest of the line for us. But, it's tedious and we don't know how many dots to add. This is where the asterisk symbol, *, comes in.\n",
    "\n",
    "* matches zero or more instances of a pattern on its left. This means it looks for repeating patterns. When we look for repeating patterns, we say that our search is \"greedy.\" If we don't look for repeating patterns, we can call our search \"non-greedy\" or \"lazy.\"\n",
    "\n",
    "Let's construct a greedy search for . with *."
   ]
  },
  {
   "cell_type": "code",
   "execution_count": 5,
   "metadata": {},
   "outputs": [
    {
     "name": "stdout",
     "output_type": "stream",
     "text": [
      "From: \"Mr. Ben Suleman\" <bensul2004nng@spinfinder.com>\n",
      "From: \"PRINCE OBONG ELEME\" <obong_715@epatra.com>\n"
     ]
    }
   ],
   "source": [
    "for line in re.findall(\"From:.*\", fh):\n",
    "    print(line)"
   ]
  },
  {
   "cell_type": "markdown",
   "metadata": {},
   "source": [
    "Because * matches zero or more instances of the pattern indicated on its left, and . is on its left here, we are able to acquire all the characters in the From: field until the end of the line. This prints out the full line with beautifully succinct code.\n",
    "\n",
    "We might even go further and isolate only the name. Let's use re.findall() to return a list of lines containing the pattern \"From:.*\" as we've done before. We'll assign it to the variable match for neatness. Next, we'll iterate through the list. In each cycle, we'll execute re.findall again, matching the first quotation mark to pick out just the name:"
   ]
  },
  {
   "cell_type": "code",
   "execution_count": 6,
   "metadata": {},
   "outputs": [
    {
     "name": "stdout",
     "output_type": "stream",
     "text": [
      "['\"Mr. Ben Suleman\"']\n",
      "['\"PRINCE OBONG ELEME\"']\n"
     ]
    }
   ],
   "source": [
    "match = re.findall(\"From:.*\", fh)\n",
    "\n",
    "for line in match:\n",
    "    print(re.findall('\\\".*\\\"', line))"
   ]
  },
  {
   "cell_type": "markdown",
   "metadata": {},
   "source": [
    "Notice that we use a backslash next to the first quotation mark. The backslash is a special character used for escaping other special characters. For instance, when we want to use a quotation mark as a string literal instead of a special character, we escape it with a backslash like this: \\\". If we do not escape the pattern above with backslashes, it would become \"\".*\"\", which the Python interpreter would read as a period and an asterisk between two empty strings. It would produce an error and break the script. Hence, it's crucial that we escape the quotation marks here with backslashes.\n",
    "\n",
    "After the first quotation mark is matched, .* acquires all the characters in the line until the next quotation mark, also escaped in the pattern. This gets us just the name, within quotation marks. The name is also printed within square brackets because re.findall returns matches in a list.\n",
    "\n",
    "What if we want the email address instead?"
   ]
  },
  {
   "cell_type": "code",
   "execution_count": 7,
   "metadata": {},
   "outputs": [
    {
     "name": "stdout",
     "output_type": "stream",
     "text": [
      "['From', 'Mr. B', 'en S', 'uleman', 'bensul2004nng@spinfinder.com']\n",
      "['From', 'PRINCE O', 'BONG E', 'LEME', 'obong_715@epatra.com']\n"
     ]
    }
   ],
   "source": [
    "match = re.findall(\"From:.*\", fh)\n",
    "\n",
    "for line in match:\n",
    "    print(re.findall(\"\\w\\S*@*.\\w\", line))"
   ]
  },
  {
   "cell_type": "markdown",
   "metadata": {},
   "source": [
    "Looks simple enough, doesn't it? Only the pattern is different. Let's walk through it.\n",
    "\n",
    "Here's how we match just the front part of the email address:"
   ]
  },
  {
   "cell_type": "code",
   "execution_count": 8,
   "metadata": {},
   "outputs": [
    {
     "name": "stdout",
     "output_type": "stream",
     "text": [
      "['bensul2004nng@']\n",
      "['obong_715@']\n"
     ]
    }
   ],
   "source": [
    "for line in match:\n",
    "    print(re.findall(\"\\w\\S*@\", line))"
   ]
  },
  {
   "cell_type": "markdown",
   "metadata": {},
   "source": [
    "Emails always contain an @ symbol, so we start with it. The part of the email before the @ symbol might contain alphanumeric characters, which means w is required. However, because some emails contain a period or a dash, that's not enough. We add S to look for non-whitespace characters. But, w\\S will get only two characters. Add * to look for repetitions. The front part of the pattern thus looks like this: \\w\\S*@.\n",
    "\n",
    "Now for the pattern behind the @ symbol:"
   ]
  },
  {
   "cell_type": "code",
   "execution_count": 9,
   "metadata": {},
   "outputs": [
    {
     "name": "stdout",
     "output_type": "stream",
     "text": [
      "['@spinfinder.com>']\n",
      "['@epatra.com>']\n"
     ]
    }
   ],
   "source": [
    "for line in match:\n",
    "    print(re.findall(\"@.*\", line))"
   ]
  },
  {
   "cell_type": "markdown",
   "metadata": {},
   "source": [
    "The domain name usually contains alphanumeric characters, periods, and a dash sometimes, so a . will do. To make it greedy, we extend the search with a *. This allows us to match any character till the end of the line.\n",
    "\n",
    "If we look at the line closely, we see that each email is encapsulated within angle brackets, < and >. Our pattern, .*, includes the closing bracket, >. Let's remedy it:"
   ]
  },
  {
   "cell_type": "code",
   "execution_count": 10,
   "metadata": {},
   "outputs": [
    {
     "name": "stdout",
     "output_type": "stream",
     "text": [
      "['@spinfinder.com']\n",
      "['@epatra.com']\n"
     ]
    }
   ],
   "source": [
    "for line in match:\n",
    "    print(re.findall(\"@.*\\w\", line))"
   ]
  },
  {
   "cell_type": "markdown",
   "metadata": {},
   "source": [
    "Email addresses end with an alphanumeric character, so we cap the pattern with w. So, after the @ symbol we have .*\\w, which means that the pattern we want is a group of any type of characters ending with an alphanumeric character. This excludes >.\n",
    "\n",
    "Our full email address pattern thus looks like this: \\w\\S*@.*\\w.\n",
    "\n",
    "Phew! That was quite a bit to work through. Next, we'll run through some common re functions that will be useful when we start reorganizing our corpus."
   ]
  },
  {
   "cell_type": "markdown",
   "metadata": {},
   "source": [
    "# Common Python Regex Functions\n",
    "re.findall() is undeniably useful, but it's not the only built-in function that's available to us in re:\n",
    "\n",
    "re.search()\n",
    "re.split()\n",
    "re.sub()\n",
    "Let's look at these one by one before using them to bring some order to our data set.\n",
    "\n",
    "# re.search()\n",
    "While re.findall() matches all instances of a pattern in a string and returns them in a list, re.search() matches the first instance of a pattern in a string, and returns it as a re match object."
   ]
  },
  {
   "cell_type": "code",
   "execution_count": 11,
   "metadata": {},
   "outputs": [
    {
     "name": "stdout",
     "output_type": "stream",
     "text": [
      "<class 're.Match'>\n",
      "<class 'str'>\n",
      "<re.Match object; span=(204, 258), match='From: \"Mr. Ben Suleman\" <bensul2004nng@spinfinder>\n",
      "From: \"Mr. Ben Suleman\" <bensul2004nng@spinfinder.com>\n"
     ]
    }
   ],
   "source": [
    "match = re.search(\"From:.*\", fh)\n",
    "print(type(match))\n",
    "print(type(match.group()))\n",
    "print(match)\n",
    "print(match.group())"
   ]
  },
  {
   "cell_type": "markdown",
   "metadata": {},
   "source": [
    "Like re.findall(), re.search() also takes two arguments. The first is the pattern to match, and the second is the string to find it in. Here, we've assigned the results to the match variable for neatness.\n",
    "\n",
    "Because re.search() returns a re match object, we can't display the name and email address by printing it directly. Instead, we have to apply the group() function to it first. We've printed both their types out in the code above. As we can see, group() converts the match object into a string.\n",
    "\n",
    "We can also see that printing match displays properties beyond the string itself, whereas printing match.group() displays only the string.\n",
    "\n",
    "# re.split()\n",
    "Suppose we need a quick way to get the domain name of the email addresses. We could do it with three regex operations, like so:"
   ]
  },
  {
   "cell_type": "code",
   "execution_count": 12,
   "metadata": {},
   "outputs": [
    {
     "name": "stdout",
     "output_type": "stream",
     "text": [
      "bensul2004nng, spinfinder.com\n",
      "obong_715, epatra.com\n"
     ]
    }
   ],
   "source": [
    "address = re.findall(\"From:.*\", fh)\n",
    "for item in address:\n",
    "    for line in re.findall(\"\\w\\S*@.*\\w\", item):\n",
    "        username, domain_name = re.split(\"@\", line)\n",
    "        print(\"{}, {}\".format(username, domain_name))"
   ]
  },
  {
   "cell_type": "markdown",
   "metadata": {},
   "source": [
    "The first line is familiar. We return a list of strings, each containing the contents of the From: field, and assign it to a variable. Next, we iterate through the list to find the email addresses. At the same time, we iterate through the email addresses and use the re module's split() function to snip each address in half, with the @ symbol as the delimiter. Finally, we print it.\n",
    "\n",
    "# re.sub()\n",
    "Another handy re function is re.sub(). As the function name suggests, it substitutes parts of a string. An example:"
   ]
  },
  {
   "cell_type": "code",
   "execution_count": 13,
   "metadata": {},
   "outputs": [
    {
     "name": "stdout",
     "output_type": "stream",
     "text": [
      "From: \"Mr. Ben Suleman\" <bensul2004nng@spinfinder.com>\n",
      "Email: \"Mr. Ben Suleman\" <bensul2004nng@spinfinder.com>\n"
     ]
    }
   ],
   "source": [
    "sender = re.search(\"From:.*\", fh)\n",
    "address = sender.group()\n",
    "email = re.sub(\"From\", \"Email\", address)\n",
    "print(address)\n",
    "print(email)"
   ]
  },
  {
   "cell_type": "markdown",
   "metadata": {},
   "source": [
    "We've already seen the tasks on the first and second lines before. On the third line, we apply re.sub() on address, which is the full From: field in the email header.\n",
    "\n",
    "re.sub() takes three arguments. The first is the substring to substitute, the second is a string we want in its place, and the third is the main string itself."
   ]
  },
  {
   "cell_type": "markdown",
   "metadata": {},
   "source": [
    "# Regex with Pandas\n",
    "Now we have the basics of Python regex in hand. But often for data tasks, we're not actually using raw Python, we're using the pandas library. Now let's take our regex skills to the next level by bringing them into a pandas workflow."
   ]
  },
  {
   "cell_type": "markdown",
   "metadata": {},
   "source": []
  },
  {
   "cell_type": "code",
   "execution_count": 14,
   "metadata": {},
   "outputs": [
    {
     "name": "stdout",
     "output_type": "stream",
     "text": [
      "Number of emails: 7\n",
      "n\n",
      "sender_email: bensul2004nng@spinfinder.com\n",
      "sender_name: \"Mr. Ben Suleman\"\n",
      "recipient_email: R@M\n",
      "recipient_name: None\n",
      "date_sent: 31 Oct 2002\n",
      "subject: URGENT ASSISTANCE /RELATIONSHIP (P)\n",
      "email_body: email body here\n"
     ]
    }
   ],
   "source": [
    "import re\n",
    "import pandas as pd\n",
    "import email\n",
    "\n",
    "emails = []\n",
    "\n",
    "fh = open(r\"test_emails.txt\", \"r\").read()\n",
    "\n",
    "contents = re.split(r\"From r\",fh)\n",
    "contents.pop(0)\n",
    "\n",
    "for item in contents:\n",
    "    emails_dict = {}\n",
    "\n",
    "    sender = re.search(r\"From:.*\", item)\n",
    "\n",
    "    if sender is not None:\n",
    "        s_email = re.search(r\"\\w\\S*@.*\\w\", sender.group())\n",
    "        s_name = re.search(r\":.*<\", sender.group())\n",
    "    else:\n",
    "        s_email = None\n",
    "        s_name = None\n",
    "\n",
    "    if s_email is not None:\n",
    "        sender_email = s_email.group()\n",
    "    else:\n",
    "        sender_email = None\n",
    "\n",
    "    emails_dict[\"sender_email\"] = sender_email\n",
    "\n",
    "    if s_name is not None:\n",
    "        sender_name = re.sub(\"\\s*<\", \"\", re.sub(\":\\s*\", \"\", s_name.group()))\n",
    "    else:\n",
    "        sender_name = None\n",
    "\n",
    "    emails_dict[\"sender_name\"] = sender_name\n",
    "\n",
    "    recipient = re.search(r\"To:.*\", item)\n",
    "\n",
    "    if recipient is not None:\n",
    "        r_email = re.search(r\"\\w\\S*@.*\\w\", recipient.group())\n",
    "        r_name = re.search(r\":.*<\", recipient.group())\n",
    "    else:\n",
    "        r_email = None\n",
    "        r_name = None\n",
    "\n",
    "    if r_email is not None:\n",
    "        recipient_email = r_email.group()\n",
    "    else:\n",
    "        recipient_email = None\n",
    "    emails_dict[\"recipient_email\"] = recipient_email\n",
    "\n",
    "    if r_name is not None:\n",
    "        recipient_name = re.sub(\"s*<\", \"\", re.sub(\":s*\", \"\", r_name.group()))\n",
    "    else:\n",
    "        recipient_name = None\n",
    "\n",
    "    emails_dict[\"recipient_name\"] = recipient_name\n",
    "\n",
    "    date_field = re.search(r\"Date:.*\", item)\n",
    "\n",
    "    if date_field is not None:\n",
    "        date = re.search(r\"\\d+\\s\\w+\\s\\d+\", date_field.group())\n",
    "    else:\n",
    "        date = None\n",
    "\n",
    "    if date is not None:\n",
    "        date_sent = date.group()\n",
    "    else:\n",
    "        date_sent = None\n",
    "\n",
    "    emails_dict[\"date_sent\"] = date_sent\n",
    "\n",
    "    subject_field = re.search(r\"Subject: .*\", item)\n",
    "\n",
    "    if subject_field is not None:\n",
    "        subject = re.sub(r\"Subject: \", \"\", subject_field.group())\n",
    "    else:\n",
    "        subject = None\n",
    "\n",
    "    emails_dict[\"subject\"] = subject\n",
    "\n",
    "    # \"item\" substituted with \"email content here\" so full email not\n",
    "# displayed.\n",
    "\n",
    "    full_email = email.message_from_string(item)\n",
    "    body = full_email.get_payload()\n",
    "    emails_dict[\"email_body\"] = \"email body here\"\n",
    "\n",
    "    emails.append(emails_dict)\n",
    "# Print number of dictionaries, and hence, emails, in the list.\n",
    "print(\"Number of emails: \" + str(len(emails_dict)))\n",
    "\n",
    "print(\"n\")\n",
    "\n",
    "# Print first item in the emails list to see how it looks.\n",
    "for key, value in emails[0].items():\n",
    "    print(str(key) + \": \" + str(emails[0][key]))"
   ]
  },
  {
   "cell_type": "code",
   "execution_count": 15,
   "metadata": {},
   "outputs": [],
   "source": [
    "import pandas as pd\n",
    "# Module imported above, imported again as reminder.\n",
    "emails_df = pd.DataFrame(emails)"
   ]
  },
  {
   "cell_type": "code",
   "execution_count": 16,
   "metadata": {},
   "outputs": [
    {
     "data": {
      "text/html": [
       "<div>\n",
       "<style scoped>\n",
       "    .dataframe tbody tr th:only-of-type {\n",
       "        vertical-align: middle;\n",
       "    }\n",
       "\n",
       "    .dataframe tbody tr th {\n",
       "        vertical-align: top;\n",
       "    }\n",
       "\n",
       "    .dataframe thead th {\n",
       "        text-align: right;\n",
       "    }\n",
       "</style>\n",
       "<table border=\"1\" class=\"dataframe\">\n",
       "  <thead>\n",
       "    <tr style=\"text-align: right;\">\n",
       "      <th></th>\n",
       "      <th>sender_email</th>\n",
       "      <th>sender_name</th>\n",
       "      <th>recipient_email</th>\n",
       "      <th>recipient_name</th>\n",
       "      <th>date_sent</th>\n",
       "      <th>subject</th>\n",
       "      <th>email_body</th>\n",
       "    </tr>\n",
       "  </thead>\n",
       "  <tbody>\n",
       "    <tr>\n",
       "      <th>0</th>\n",
       "      <td>bensul2004nng@spinfinder.com</td>\n",
       "      <td>\"Mr. Ben Suleman\"</td>\n",
       "      <td>R@M</td>\n",
       "      <td>None</td>\n",
       "      <td>31 Oct 2002</td>\n",
       "      <td>URGENT ASSISTANCE /RELATIONSHIP (P)</td>\n",
       "      <td>email body here</td>\n",
       "    </tr>\n",
       "    <tr>\n",
       "      <th>1</th>\n",
       "      <td>obong_715@epatra.com</td>\n",
       "      <td>\"PRINCE OBONG ELEME\"</td>\n",
       "      <td>obong_715@epatra.com</td>\n",
       "      <td>None</td>\n",
       "      <td>31 Oct 2002</td>\n",
       "      <td>GOOD DAY TO YOU</td>\n",
       "      <td>email body here</td>\n",
       "    </tr>\n",
       "  </tbody>\n",
       "</table>\n",
       "</div>"
      ],
      "text/plain": [
       "                   sender_email           sender_name       recipient_email  \\\n",
       "0  bensul2004nng@spinfinder.com     \"Mr. Ben Suleman\"                   R@M   \n",
       "1          obong_715@epatra.com  \"PRINCE OBONG ELEME\"  obong_715@epatra.com   \n",
       "\n",
       "  recipient_name    date_sent                              subject  \\\n",
       "0           None  31 Oct 2002  URGENT ASSISTANCE /RELATIONSHIP (P)   \n",
       "1           None  31 Oct 2002                      GOOD DAY TO YOU   \n",
       "\n",
       "        email_body  \n",
       "0  email body here  \n",
       "1  email body here  "
      ]
     },
     "execution_count": 16,
     "metadata": {},
     "output_type": "execute_result"
    }
   ],
   "source": [
    "pd.DataFrame.head(emails_df, n=3)"
   ]
  },
  {
   "cell_type": "code",
   "execution_count": 17,
   "metadata": {},
   "outputs": [
    {
     "data": {
      "text/html": [
       "<div>\n",
       "<style scoped>\n",
       "    .dataframe tbody tr th:only-of-type {\n",
       "        vertical-align: middle;\n",
       "    }\n",
       "\n",
       "    .dataframe tbody tr th {\n",
       "        vertical-align: top;\n",
       "    }\n",
       "\n",
       "    .dataframe thead th {\n",
       "        text-align: right;\n",
       "    }\n",
       "</style>\n",
       "<table border=\"1\" class=\"dataframe\">\n",
       "  <thead>\n",
       "    <tr style=\"text-align: right;\">\n",
       "      <th></th>\n",
       "      <th>sender_email</th>\n",
       "      <th>sender_name</th>\n",
       "      <th>recipient_email</th>\n",
       "      <th>recipient_name</th>\n",
       "      <th>date_sent</th>\n",
       "      <th>subject</th>\n",
       "      <th>email_body</th>\n",
       "    </tr>\n",
       "  </thead>\n",
       "  <tbody>\n",
       "    <tr>\n",
       "      <th>0</th>\n",
       "      <td>bensul2004nng@spinfinder.com</td>\n",
       "      <td>\"Mr. Ben Suleman\"</td>\n",
       "      <td>R@M</td>\n",
       "      <td>None</td>\n",
       "      <td>31 Oct 2002</td>\n",
       "      <td>URGENT ASSISTANCE /RELATIONSHIP (P)</td>\n",
       "      <td>email body here</td>\n",
       "    </tr>\n",
       "    <tr>\n",
       "      <th>1</th>\n",
       "      <td>obong_715@epatra.com</td>\n",
       "      <td>\"PRINCE OBONG ELEME\"</td>\n",
       "      <td>obong_715@epatra.com</td>\n",
       "      <td>None</td>\n",
       "      <td>31 Oct 2002</td>\n",
       "      <td>GOOD DAY TO YOU</td>\n",
       "      <td>email body here</td>\n",
       "    </tr>\n",
       "  </tbody>\n",
       "</table>\n",
       "</div>"
      ],
      "text/plain": [
       "                   sender_email           sender_name       recipient_email  \\\n",
       "0  bensul2004nng@spinfinder.com     \"Mr. Ben Suleman\"                   R@M   \n",
       "1          obong_715@epatra.com  \"PRINCE OBONG ELEME\"  obong_715@epatra.com   \n",
       "\n",
       "  recipient_name    date_sent                              subject  \\\n",
       "0           None  31 Oct 2002  URGENT ASSISTANCE /RELATIONSHIP (P)   \n",
       "1           None  31 Oct 2002                      GOOD DAY TO YOU   \n",
       "\n",
       "        email_body  \n",
       "0  email body here  \n",
       "1  email body here  "
      ]
     },
     "execution_count": 17,
     "metadata": {},
     "output_type": "execute_result"
    }
   ],
   "source": [
    "emails_df[emails_df[\"sender_email\"].str.contains(\"epatra|spinfinder\")]"
   ]
  },
  {
   "cell_type": "code",
   "execution_count": 18,
   "metadata": {},
   "outputs": [],
   "source": [
    "# Step 1: find the index where the \"sender_email\" column contains \"@spinfinder.com\".\n",
    "index = emails_df[emails_df[\"sender_email\"].str.contains(r\"\\w\\S*@spinfinder.com\")].index.values"
   ]
  },
  {
   "cell_type": "code",
   "execution_count": 19,
   "metadata": {},
   "outputs": [
    {
     "name": "stdout",
     "output_type": "stream",
     "text": [
      "0    bensul2004nng@spinfinder.com\n",
      "Name: sender_email, dtype: object\n",
      "<class 'pandas.core.series.Series'>\n"
     ]
    }
   ],
   "source": [
    "# Step 2: use the index to find the value of the cell i the \"sender_email\" column.\n",
    "# The result is returned as pandas Series object\n",
    "address_Series = emails_df.loc[index][\"sender_email\"]\n",
    "print(address_Series)\n",
    "print(type(address_Series))"
   ]
  },
  {
   "cell_type": "code",
   "execution_count": 20,
   "metadata": {},
   "outputs": [
    {
     "name": "stdout",
     "output_type": "stream",
     "text": [
      "bensul2004nng@spinfinder.com\n",
      "<class 'str'>\n"
     ]
    }
   ],
   "source": [
    "# Step 3: extract the email address, which is at index 0 in the Series object.\n",
    "address_string = address_Series[0]\n",
    "print(address_string)\n",
    "print(type(address_string))"
   ]
  },
  {
   "cell_type": "code",
   "execution_count": 21,
   "metadata": {},
   "outputs": [
    {
     "name": "stdout",
     "output_type": "stream",
     "text": [
      "['email body here']\n"
     ]
    }
   ],
   "source": [
    "# Step 4: find the value of the \"email_body\" column where the \"sender email\" column is address_string.\n",
    "print(emails_df[emails_df[\"sender_email\"] == address_string][\"email_body\"].values)"
   ]
  }
 ],
 "metadata": {
  "kernelspec": {
   "display_name": "base",
   "language": "python",
   "name": "python3"
  },
  "language_info": {
   "codemirror_mode": {
    "name": "ipython",
    "version": 3
   },
   "file_extension": ".py",
   "mimetype": "text/x-python",
   "name": "python",
   "nbconvert_exporter": "python",
   "pygments_lexer": "ipython3",
   "version": "3.9.7"
  }
 },
 "nbformat": 4,
 "nbformat_minor": 2
}
